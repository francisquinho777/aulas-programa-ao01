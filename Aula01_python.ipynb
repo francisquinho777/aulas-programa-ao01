{
  "nbformat": 4,
  "nbformat_minor": 0,
  "metadata": {
    "colab": {
      "provenance": [],
      "authorship_tag": "ABX9TyOMkQTIzrmdklnYrz8LfLQ4",
      "include_colab_link": true
    },
    "kernelspec": {
      "name": "python3",
      "display_name": "Python 3"
    },
    "language_info": {
      "name": "python"
    }
  },
  "cells": [
    {
      "cell_type": "markdown",
      "metadata": {
        "id": "view-in-github",
        "colab_type": "text"
      },
      "source": [
        "<a href=\"https://colab.research.google.com/github/francisquinho777/aulas-programa-ao01/blob/main/Aula01_python.ipynb\" target=\"_parent\"><img src=\"https://colab.research.google.com/assets/colab-badge.svg\" alt=\"Open In Colab\"/></a>"
      ]
    },
    {
      "cell_type": "code",
      "execution_count": 18,
      "metadata": {
        "colab": {
          "base_uri": "https://localhost:8080/"
        },
        "id": "6Kk0ehcDvpmr",
        "outputId": "cefd3b6f-226a-4984-d032-1179385d1c3c"
      },
      "outputs": [
        {
          "output_type": "stream",
          "name": "stdout",
          "text": [
            "Eu vou programar, geral!\n"
          ]
        }
      ],
      "source": [
        "print(\"Eu vou programar, geral!\")"
      ]
    },
    {
      "cell_type": "code",
      "source": [
        "#variaveis \n",
        "nome = \"shikamaru nara \"\n",
        "print(nome)"
      ],
      "metadata": {
        "colab": {
          "base_uri": "https://localhost:8080/"
        },
        "id": "D9lVJvIVxWKH",
        "outputId": "cc51c910-b07d-4e64-f795-32918e9476ce"
      },
      "execution_count": 6,
      "outputs": [
        {
          "output_type": "stream",
          "name": "stdout",
          "text": [
            "shikamaru nara \n"
          ]
        }
      ]
    },
    {
      "cell_type": "code",
      "source": [
        "a =20\n",
        "b = 35\n",
        "soma = a + b\n",
        "subtracao = a - b\n",
        "divisao = a / b\n",
        "multipli = a * b \n"
      ],
      "metadata": {
        "id": "4HC1HZ1qxZll"
      },
      "execution_count": 7,
      "outputs": []
    },
    {
      "cell_type": "code",
      "source": [
        "print (soma)\n",
        "print(subtracao)\n",
        "print(divisao)\n",
        "print(multipli)"
      ],
      "metadata": {
        "colab": {
          "base_uri": "https://localhost:8080/"
        },
        "id": "ZzB1KG19yXL3",
        "outputId": "703bdab9-cf3d-4f9a-ad09-048b202873d3"
      },
      "execution_count": 9,
      "outputs": [
        {
          "output_type": "stream",
          "name": "stdout",
          "text": [
            "55\n",
            "-15\n",
            "0.5714285714285714\n",
            "700\n"
          ]
        }
      ]
    },
    {
      "cell_type": "code",
      "source": [
        "#Dobro \n",
        "num = 42\n",
        "print (num * 2)\n"
      ],
      "metadata": {
        "colab": {
          "base_uri": "https://localhost:8080/"
        },
        "id": "m4GOnczTy0Gv",
        "outputId": "ded31d46-c586-473b-edd1-1246a51b9b07"
      },
      "execution_count": 10,
      "outputs": [
        {
          "output_type": "stream",
          "name": "stdout",
          "text": [
            "84\n"
          ]
        }
      ]
    },
    {
      "cell_type": "code",
      "source": [
        "#Média \n",
        "n1 = 8\n",
        "n2 = 6.2\n",
        "n3 = 7\n",
        "media = (n1+n2+n3)/3\n",
        "print(media)"
      ],
      "metadata": {
        "colab": {
          "base_uri": "https://localhost:8080/"
        },
        "id": "X8dpp5vn1ECO",
        "outputId": "6368c7a2-a647-4ad7-d8ed-a928973fa7df"
      },
      "execution_count": 14,
      "outputs": [
        {
          "output_type": "stream",
          "name": "stdout",
          "text": [
            "7.066666666666666\n"
          ]
        }
      ]
    },
    {
      "cell_type": "code",
      "source": [
        "#calcular idade \n",
        "anoNascim = 1982\n",
        "print(2023 - 1982)"
      ],
      "metadata": {
        "colab": {
          "base_uri": "https://localhost:8080/"
        },
        "id": "GsmRSv4s17v1",
        "outputId": "cd085123-6201-4bcd-a30e-e10d0079987b"
      },
      "execution_count": 15,
      "outputs": [
        {
          "output_type": "stream",
          "name": "stdout",
          "text": [
            "41\n"
          ]
        }
      ]
    },
    {
      "cell_type": "code",
      "source": [
        "#Trabalhando com Inputs\n",
        "nome = input('Digite seu nome')\n",
        "print('Olá '+nome)"
      ],
      "metadata": {
        "colab": {
          "base_uri": "https://localhost:8080/"
        },
        "id": "Io3thTGT2RwS",
        "outputId": "957db24f-c7b0-49c6-91cc-6354a577a6fc"
      },
      "execution_count": 19,
      "outputs": [
        {
          "output_type": "stream",
          "name": "stdout",
          "text": [
            "Digite seu nomewedson\n",
            "Olá wedson\n"
          ]
        }
      ]
    },
    {
      "cell_type": "markdown",
      "source": [],
      "metadata": {
        "id": "P1yyFAdA4_eB"
      }
    },
    {
      "cell_type": "code",
      "source": [
        "#mutliple por 3 \n",
        "#PARSE\n",
        "num = int(input('digita ai,otario '))\n",
        "print(num*3)\n",
        "\n",
        "\n"
      ],
      "metadata": {
        "colab": {
          "base_uri": "https://localhost:8080/"
        },
        "id": "WiY7ROCf4vGu",
        "outputId": "7029a24e-cfe7-4cbe-fc74-e0241e4d3180"
      },
      "execution_count": 21,
      "outputs": [
        {
          "output_type": "stream",
          "name": "stdout",
          "text": [
            "digita ai,otario 3\n",
            "9\n"
          ]
        }
      ]
    }
  ]
}