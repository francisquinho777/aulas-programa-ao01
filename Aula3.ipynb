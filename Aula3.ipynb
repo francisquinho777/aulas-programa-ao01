{
  "nbformat": 4,
  "nbformat_minor": 0,
  "metadata": {
    "colab": {
      "provenance": [],
      "authorship_tag": "ABX9TyNfoLCiAsL9ixChWOoNGQgy",
      "include_colab_link": true
    },
    "kernelspec": {
      "name": "python3",
      "display_name": "Python 3"
    },
    "language_info": {
      "name": "python"
    }
  },
  "cells": [
    {
      "cell_type": "markdown",
      "metadata": {
        "id": "view-in-github",
        "colab_type": "text"
      },
      "source": [
        "<a href=\"https://colab.research.google.com/github/francisquinho777/aulas-programa-ao01/blob/main/Aula3.ipynb\" target=\"_parent\"><img src=\"https://colab.research.google.com/assets/colab-badge.svg\" alt=\"Open In Colab\"/></a>"
      ]
    },
    {
      "cell_type": "code",
      "execution_count": 1,
      "metadata": {
        "colab": {
          "base_uri": "https://localhost:8080/"
        },
        "id": "cKl7YngCjhwD",
        "outputId": "f3cf89de-1782-40be-9c1c-27c6c2583de7"
      },
      "outputs": [
        {
          "output_type": "stream",
          "name": "stdout",
          "text": [
            "digite o ano de nascimento!1999\n",
            "Sua idade é:  24\n"
          ]
        }
      ],
      "source": [
        "#codigo para dizer a idade da pessoa \n",
        "anoNAscim = int(input('digite o ano de nascimento!'))\n",
        "print('Sua idade é: ',2023-int(anoNAscim))"
      ]
    },
    {
      "cell_type": "code",
      "source": [
        "#Solicita a altura eo peso de alguém, e retona o IMC\n",
        "#IMC = peso / altura**2\n",
        "\n",
        "peso = float(input('digite o peso '))\n",
        "altura = float(input('digite a altura! '))\n",
        "imc = peso/altura**2\n",
        "print('O IMC é:', imc)"
      ],
      "metadata": {
        "colab": {
          "base_uri": "https://localhost:8080/"
        },
        "id": "JiA1GK68o0k8",
        "outputId": "6d5478ee-83d4-4127-965c-b62ad1dd2421"
      },
      "execution_count": 18,
      "outputs": [
        {
          "output_type": "stream",
          "name": "stdout",
          "text": [
            "digite o peso 60\n",
            "digite a altura! 1.80\n",
            "O IMC é: 18.51851851851852\n"
          ]
        }
      ]
    },
    {
      "cell_type": "code",
      "source": [
        "#Verificação logica"
      ],
      "metadata": {
        "id": "dOhHR1N_uSD0"
      },
      "execution_count": 19,
      "outputs": []
    },
    {
      "cell_type": "code",
      "source": [
        "#Verificação se um numero é par \n",
        "num = int(input('Digite um número: '))\n",
        "if(num%2 == 0):\n",
        "  print('O numero é par')\n",
        "else: \n",
        "    print('O número é impar')"
      ],
      "metadata": {
        "colab": {
          "base_uri": "https://localhost:8080/"
        },
        "id": "3lx1uTRKvz4Y",
        "outputId": "4e5bd47b-e9df-4eab-fcb7-5b1c01789107"
      },
      "execution_count": 23,
      "outputs": [
        {
          "output_type": "stream",
          "name": "stdout",
          "text": [
            "Digite um número: 5\n",
            "O número é impar\n"
          ]
        }
      ]
    },
    {
      "cell_type": "code",
      "source": [
        "#Em um campeonato de MMA, tem três categorias por peso\n",
        "#galo até 70kg\n",
        "#medio até 80kg\n",
        "#meio pesado até 90kg\n",
        "peso = float(input( 'Digite o peso de atleta:'))\n",
        "if(peso <= 70):\n",
        "  print('Galo')\n",
        "elif(peso <= 80):\n",
        "  print('Medio')\n",
        "else:\n",
        "  print('Meio Pesado')\n",
        "\n"
      ],
      "metadata": {
        "colab": {
          "base_uri": "https://localhost:8080/"
        },
        "id": "3bhosEKNvMgg",
        "outputId": "9f95f067-63ad-4404-dde2-6953565aa151"
      },
      "execution_count": 29,
      "outputs": [
        {
          "output_type": "stream",
          "name": "stdout",
          "text": [
            "Digite o peso de atleta:91\n",
            "Meio Pesado\n"
          ]
        }
      ]
    },
    {
      "cell_type": "code",
      "source": [
        "#IMC/ execicio \n",
        "peso = float(input('digite o peso '))\n",
        "altura = float(input('digite a altura! '))\n",
        "imc = peso/altura**2\n",
        "print('O IMC é:', imc)\n",
        "\n",
        "imc = float(input( 'Digite o imc :'))\n",
        "if(imc < 18.5):\n",
        " print('abaixo do peso normal')\n",
        "elif(imc < 25):\n",
        "  print('Peso normal') \n",
        "elif(imc < 30):\n",
        "  print('execesso de peso') \n",
        "elif(imc < 35.0):\n",
        "  print('Obesidade classe1')\n",
        "elif(imc < 40):\n",
        "  print('Obesidade classe2')  \n",
        "else:\n",
        "  print('Obesidade classe3')\n",
        "print ('O IMC do pacient é:',round(imc,2))\n"
      ],
      "metadata": {
        "colab": {
          "base_uri": "https://localhost:8080/"
        },
        "id": "hN-josDq2qtl",
        "outputId": "6413d96a-9d55-43ec-a147-f571ae1fe435"
      },
      "execution_count": 38,
      "outputs": [
        {
          "output_type": "stream",
          "name": "stdout",
          "text": [
            "digite o peso 90\n",
            "digite a altura! 1.75\n",
            "O IMC é: 29.387755102040817\n",
            "Digite o imc :29\n",
            "execesso de peso\n",
            "O IMC do pacient é: 29.0\n"
          ]
        }
      ]
    }
  ]
}