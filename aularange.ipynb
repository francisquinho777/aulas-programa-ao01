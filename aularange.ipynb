{
  "nbformat": 4,
  "nbformat_minor": 0,
  "metadata": {
    "colab": {
      "provenance": [],
      "authorship_tag": "ABX9TyPmK8ebJbRdWrkTuWzIkVqN",
      "include_colab_link": true
    },
    "kernelspec": {
      "name": "python3",
      "display_name": "Python 3"
    },
    "language_info": {
      "name": "python"
    }
  },
  "cells": [
    {
      "cell_type": "markdown",
      "metadata": {
        "id": "view-in-github",
        "colab_type": "text"
      },
      "source": [
        "<a href=\"https://colab.research.google.com/github/francisquinho777/aulas-programa-ao01/blob/main/aularange.ipynb\" target=\"_parent\"><img src=\"https://colab.research.google.com/assets/colab-badge.svg\" alt=\"Open In Colab\"/></a>"
      ]
    },
    {
      "cell_type": "code",
      "execution_count": 1,
      "metadata": {
        "colab": {
          "base_uri": "https://localhost:8080/"
        },
        "id": "Jw0rB1ssvIp4",
        "outputId": "7cfeb9dd-2627-44a2-dbbe-2d3cd779b341"
      },
      "outputs": [
        {
          "output_type": "execute_result",
          "data": {
            "text/plain": [
              "[0, 1, 2, 3, 4, 5, 6, 7]"
            ]
          },
          "metadata": {},
          "execution_count": 1
        }
      ],
      "source": [
        "#Criar uma lista com números de 1 a 15\n",
        "numeros = []\n",
        "for num in range (8):\n",
        "  numeros.append(num)\n",
        "numeros "
      ]
    },
    {
      "cell_type": "code",
      "source": [
        "#Criar um lista com tamanhos aleatorio (entre 0 e 50)\n",
        "import random\n",
        "nums2 = []\n",
        "for num in range(random.randrange(0 ,50)):\n",
        "  nums2.append(num)\n",
        "\n",
        "nums2\n"
      ],
      "metadata": {
        "colab": {
          "base_uri": "https://localhost:8080/"
        },
        "id": "7ZYMHQ_vwh-b",
        "outputId": "f122f51e-075d-48ef-9bb6-05a094aa8de6"
      },
      "execution_count": 20,
      "outputs": [
        {
          "output_type": "execute_result",
          "data": {
            "text/plain": [
              "[0, 1, 2, 3, 4, 5, 6, 7, 8, 9]"
            ]
          },
          "metadata": {},
          "execution_count": 20
        }
      ]
    },
    {
      "cell_type": "code",
      "source": [
        "#(parentesis)Descobrir se um número e par \n",
        "a = int(input('Digite um numero '))\n",
        "if a % 2 == 0:\n",
        "  print('É par')\n",
        "else:\n",
        "  print('É impar')  \n"
      ],
      "metadata": {
        "colab": {
          "base_uri": "https://localhost:8080/"
        },
        "id": "upP0qaY-zDa4",
        "outputId": "9abef388-6b6b-4c01-d86f-d2e6e954447a"
      },
      "execution_count": 33,
      "outputs": [
        {
          "output_type": "stream",
          "name": "stdout",
          "text": [
            "Digite um numero 5\n",
            "É impar\n"
          ]
        }
      ]
    },
    {
      "cell_type": "code",
      "source": [
        "#Exercicio printar numeros pare até 50 \n",
        "\n",
        " numPares = []\n",
        "for num in range(51):\n",
        "  if(num % 2 == 0):\n",
        "    numPares.append(num)\n",
        "  numPares"
      ],
      "metadata": {
        "colab": {
          "base_uri": "https://localhost:8080/",
          "height": 130
        },
        "id": "Dkc-Kneq29p-",
        "outputId": "5cf88f69-d263-437e-ceba-2a004e3818b1"
      },
      "execution_count": 37,
      "outputs": [
        {
          "output_type": "error",
          "ename": "IndentationError",
          "evalue": "ignored",
          "traceback": [
            "\u001b[0;36m  File \u001b[0;32m\"<ipython-input-37-f1d049a15b76>\"\u001b[0;36m, line \u001b[0;32m3\u001b[0m\n\u001b[0;31m    numPares = []\u001b[0m\n\u001b[0m    ^\u001b[0m\n\u001b[0;31mIndentationError\u001b[0m\u001b[0;31m:\u001b[0m unexpected indent\n"
          ]
        }
      ]
    },
    {
      "cell_type": "code",
      "source": [
        "#Retorne a soma dos números de 1 a 100\n",
        "soma = 0\n",
        "\n",
        "for n in range(101):\n",
        " soma = soma+n\n",
        "soma"
      ],
      "metadata": {
        "colab": {
          "base_uri": "https://localhost:8080/"
        },
        "id": "A2-jxK4P4Pax",
        "outputId": "6adc23cf-34c7-483a-9fcd-24dac8586809"
      },
      "execution_count": 40,
      "outputs": [
        {
          "output_type": "execute_result",
          "data": {
            "text/plain": [
              "5050"
            ]
          },
          "metadata": {},
          "execution_count": 40
        }
      ]
    },
    {
      "cell_type": "code",
      "source": [],
      "metadata": {
        "id": "7QBoTmn9-u7w"
      },
      "execution_count": null,
      "outputs": []
    },
    {
      "cell_type": "code",
      "source": [
        "#Criar um programa de lista os números de 1 a 10 \n",
        "##Precisamos fr um contador \n",
        "cont = 0 \n",
        "while (cont < 10):\n",
        "  print(cont +1)\n",
        "  cont+=1"
      ],
      "metadata": {
        "id": "aWp8dUhM8ow4"
      },
      "execution_count": null,
      "outputs": []
    },
    {
      "cell_type": "code",
      "source": [
        "#Pede ao usuario para inserir um númeor inteiro maior que 1 \n",
        "#O progrma deve imprimir todos os numeros até o número digitado.\n",
        "cont = 0\n",
        "numero = int(input('Digite um número: '))\n",
        "\n",
        "while (cont<= numero):\n",
        "  print(cont)\n",
        "  cont+=1"
      ],
      "metadata": {
        "colab": {
          "base_uri": "https://localhost:8080/"
        },
        "id": "nnB0O5ia-v-2",
        "outputId": "58e55629-aa09-4586-9a1c-9026e496748e"
      },
      "execution_count": 41,
      "outputs": [
        {
          "output_type": "stream",
          "name": "stdout",
          "text": [
            "Digite um número: 4\n",
            "0\n",
            "1\n",
            "2\n",
            "3\n",
            "4\n"
          ]
        }
      ]
    },
    {
      "cell_type": "code",
      "source": [
        "# Criar lista de compras, encerra caso digite 0\n",
        "compraslista = []\n",
        "\n",
        "item = input('Digite o item: ')\n",
        "compraslista.append(item)\n",
        "while (item != '0'):\n",
        "  compraslista.append(item)\n",
        "  item = input('Digite o item: ')\n",
        "compraslista"
      ],
      "metadata": {
        "colab": {
          "base_uri": "https://localhost:8080/"
        },
        "id": "ibi8NcvHDqgM",
        "outputId": "c082bc50-d1a0-4d9d-ed41-a9388cb44ff2"
      },
      "execution_count": 42,
      "outputs": [
        {
          "name": "stdout",
          "output_type": "stream",
          "text": [
            "Digite o item: arroz\n",
            "Digite o item: 0\n"
          ]
        },
        {
          "output_type": "execute_result",
          "data": {
            "text/plain": [
              "['arroz', 'arroz']"
            ]
          },
          "metadata": {},
          "execution_count": 42
        }
      ]
    }
  ]
}